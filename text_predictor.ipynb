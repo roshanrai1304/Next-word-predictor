{
 "cells": [
  {
   "cell_type": "code",
   "execution_count": 1,
   "metadata": {},
   "outputs": [],
   "source": [
    "import tensorflow as tf\n",
    "from tensorflow.keras.preprocessing.text import Tokenizer\n",
    "from tensorflow.keras.models import Sequential\n",
    "from tensorflow.keras.layers import Embedding, LSTM, Dense\n",
    "from tensorflow.keras.utils import to_categorical\n",
    "from tensorflow.keras.optimizers import Adam\n",
    "import pickle\n",
    "import numpy as np\n",
    "import os "
   ]
  },
  {
   "cell_type": "code",
   "execution_count": 2,
   "metadata": {},
   "outputs": [
    {
     "data": {
      "text/plain": [
       "'The Project Gutenberg eBook of Pride and Prejudice, by Jane AustenThis eBook is for the use of anyone anywhere in the United States andmost other parts of the world at no cost and with almost no restrictionswhatsoever. You may copy it, give it away or re-use it under the termsof the Project Gutenberg License included with this eBook or online atwww.gutenberg.org. If you are not located in the United States, youwill have to check the laws of the country where you are located beforeusing this eBoo'"
      ]
     },
     "execution_count": 2,
     "metadata": {},
     "output_type": "execute_result"
    }
   ],
   "source": [
    "### Remove the unncessary characters\n",
    "text_file = open('text file.txt', 'r', encoding='utf8')\n",
    "lines = text_file.read()\n",
    "data_into_list = data = lines.replace('\\n', '').replace('\\r', '').replace('\\ufeff', '').replace('“','').replace('”','')\n",
    "data_into_list\n",
    "\n",
    "# Remove the unnecessary spaces\n",
    "data = data_into_list.split()\n",
    "data = ' '.join(data)\n",
    "data[:500]"
   ]
  },
  {
   "cell_type": "markdown",
   "metadata": {},
   "source": [
    "##### Tokenization"
   ]
  },
  {
   "cell_type": "code",
   "execution_count": 3,
   "metadata": {},
   "outputs": [
    {
     "data": {
      "text/plain": [
       "[1, 223, 186, 912, 3, 328, 4, 1351, 30, 72, 4174, 912, 23, 21, 1]"
      ]
     },
     "execution_count": 3,
     "metadata": {},
     "output_type": "execute_result"
    }
   ],
   "source": [
    "tokenizer = Tokenizer()\n",
    "tokenizer.fit_on_texts([data])\n",
    "\n",
    "### saving the tokenizer for predict function\n",
    "pickle.dump(tokenizer, open('token.pkl', 'wb'))\n",
    "\n",
    "sequence_data = tokenizer.texts_to_sequences([data])[0]\n",
    "sequence_data[:15]"
   ]
  },
  {
   "cell_type": "code",
   "execution_count": 4,
   "metadata": {},
   "outputs": [
    {
     "data": {
      "text/plain": [
       "125076"
      ]
     },
     "execution_count": 4,
     "metadata": {},
     "output_type": "execute_result"
    }
   ],
   "source": [
    "len(sequence_data)"
   ]
  },
  {
   "cell_type": "code",
   "execution_count": 5,
   "metadata": {},
   "outputs": [
    {
     "name": "stdout",
     "output_type": "stream",
     "text": [
      "7200\n"
     ]
    }
   ],
   "source": [
    "vocab_size = len(tokenizer.word_index) + 1\n",
    "print(vocab_size)"
   ]
  },
  {
   "cell_type": "markdown",
   "metadata": {},
   "source": [
    "##### We will use three words to preidct the next word"
   ]
  },
  {
   "cell_type": "code",
   "execution_count": 6,
   "metadata": {},
   "outputs": [
    {
     "name": "stdout",
     "output_type": "stream",
     "text": [
      "The length of sequneces are : 125073\n"
     ]
    },
    {
     "data": {
      "text/plain": [
       "[[1, 223, 186, 912],\n",
       " [223, 186, 912, 3],\n",
       " [186, 912, 3, 328],\n",
       " [912, 3, 328, 4],\n",
       " [3, 328, 4, 1351],\n",
       " [328, 4, 1351, 30],\n",
       " [4, 1351, 30, 72],\n",
       " [1351, 30, 72, 4174],\n",
       " [30, 72, 4174, 912],\n",
       " [72, 4174, 912, 23]]"
      ]
     },
     "execution_count": 6,
     "metadata": {},
     "output_type": "execute_result"
    }
   ],
   "source": [
    "sequences = []\n",
    "\n",
    "for i in range(3, len(sequence_data)):\n",
    "    words = sequence_data[i-3:i+1]\n",
    "    sequences.append(words)\n",
    "\n",
    "print(f'The length of sequneces are : {len(sequences)}')\n",
    "sequences[:10]"
   ]
  },
  {
   "cell_type": "markdown",
   "metadata": {},
   "source": [
    "##### Separate input and output"
   ]
  },
  {
   "cell_type": "code",
   "execution_count": 7,
   "metadata": {},
   "outputs": [],
   "source": [
    "x = []\n",
    "y = []\n",
    "\n",
    "for i in sequences:\n",
    "    x.append(i[0:3])\n",
    "    y.append(i[3])\n",
    "\n",
    "x = np.array(x)\n",
    "y = np.array(y)\n"
   ]
  },
  {
   "cell_type": "markdown",
   "metadata": {},
   "source": [
    "### Label the output categorically"
   ]
  },
  {
   "cell_type": "code",
   "execution_count": 8,
   "metadata": {},
   "outputs": [
    {
     "data": {
      "text/plain": [
       "array([[0., 0., 0., ..., 0., 0., 0.],\n",
       "       [0., 0., 0., ..., 0., 0., 0.],\n",
       "       [0., 0., 0., ..., 0., 0., 0.],\n",
       "       [0., 0., 0., ..., 0., 0., 0.],\n",
       "       [0., 0., 0., ..., 0., 0., 0.]], dtype=float32)"
      ]
     },
     "execution_count": 8,
     "metadata": {},
     "output_type": "execute_result"
    }
   ],
   "source": [
    "y = to_categorical(y, num_classes=vocab_size)\n",
    "y[:5]"
   ]
  },
  {
   "cell_type": "markdown",
   "metadata": {},
   "source": [
    "##### Defining the model"
   ]
  },
  {
   "cell_type": "code",
   "execution_count": 9,
   "metadata": {},
   "outputs": [],
   "source": [
    "model = Sequential()\n",
    "model.add(Embedding(vocab_size, 10, input_length=3))\n",
    "model.add(LSTM(1000, return_sequences=True))\n",
    "model.add(LSTM(1000))\n",
    "model.add(Dense(1000, activation=\"relu\"))\n",
    "model.add(Dense(vocab_size, activation=\"softmax\"))"
   ]
  },
  {
   "cell_type": "code",
   "execution_count": 10,
   "metadata": {},
   "outputs": [
    {
     "name": "stdout",
     "output_type": "stream",
     "text": [
      "Model: \"sequential\"\n",
      "_________________________________________________________________\n",
      " Layer (type)                Output Shape              Param #   \n",
      "=================================================================\n",
      " embedding (Embedding)       (None, 3, 10)             72000     \n",
      "                                                                 \n",
      " lstm (LSTM)                 (None, 3, 1000)           4044000   \n",
      "                                                                 \n",
      " lstm_1 (LSTM)               (None, 1000)              8004000   \n",
      "                                                                 \n",
      " dense (Dense)               (None, 1000)              1001000   \n",
      "                                                                 \n",
      " dense_1 (Dense)             (None, 7200)              7207200   \n",
      "                                                                 \n",
      "=================================================================\n",
      "Total params: 20,328,200\n",
      "Trainable params: 20,328,200\n",
      "Non-trainable params: 0\n",
      "_________________________________________________________________\n"
     ]
    }
   ],
   "source": [
    "model.summary()"
   ]
  },
  {
   "cell_type": "markdown",
   "metadata": {},
   "source": [
    "##### Training the model"
   ]
  },
  {
   "cell_type": "code",
   "execution_count": 13,
   "metadata": {},
   "outputs": [],
   "source": [
    "from tensorflow.keras.utils import Sequence\n",
    "import numpy as np   \n",
    "\n",
    "class DataGenerator(Sequence):\n",
    "    def __init__(self, x_set, y_set, batch_size):\n",
    "        self.x, self.y = x_set, y_set\n",
    "        self.batch_size = batch_size\n",
    "\n",
    "    def __len__(self):\n",
    "        return int(np.ceil(len(self.x) / float(self.batch_size)))\n",
    "\n",
    "    def __getitem__(self, idx):\n",
    "        batch_x = self.x[idx * self.batch_size:(idx + 1) * self.batch_size]\n",
    "        batch_y = self.y[idx * self.batch_size:(idx + 1) * self.batch_size]\n",
    "        return batch_x, batch_y\n",
    "\n",
    "train_gen = DataGenerator(x, y, 64)"
   ]
  },
  {
   "cell_type": "code",
   "execution_count": 14,
   "metadata": {},
   "outputs": [
    {
     "name": "stdout",
     "output_type": "stream",
     "text": [
      "Epoch 1/70\n",
      "1955/1955 [==============================] - ETA: 0s - loss: 5.5659\n",
      "Epoch 1: loss improved from inf to 5.56594, saving model to next_words.h5\n",
      "1955/1955 [==============================] - 72s 36ms/step - loss: 5.5659\n",
      "Epoch 2/70\n",
      "1954/1955 [============================>.] - ETA: 0s - loss: 5.3028\n",
      "Epoch 2: loss improved from 5.56594 to 5.30275, saving model to next_words.h5\n",
      "1955/1955 [==============================] - 70s 36ms/step - loss: 5.3027\n",
      "Epoch 3/70\n",
      "1954/1955 [============================>.] - ETA: 0s - loss: 5.1084\n",
      "Epoch 3: loss improved from 5.30275 to 5.10840, saving model to next_words.h5\n",
      "1955/1955 [==============================] - 74s 38ms/step - loss: 5.1084\n",
      "Epoch 4/70\n",
      "1955/1955 [==============================] - ETA: 0s - loss: 4.9379\n",
      "Epoch 4: loss improved from 5.10840 to 4.93795, saving model to next_words.h5\n",
      "1955/1955 [==============================] - 72s 37ms/step - loss: 4.9379\n",
      "Epoch 5/70\n",
      "1954/1955 [============================>.] - ETA: 0s - loss: 4.7808\n",
      "Epoch 5: loss improved from 4.93795 to 4.78085, saving model to next_words.h5\n",
      "1955/1955 [==============================] - 73s 37ms/step - loss: 4.7808\n",
      "Epoch 6/70\n",
      "1954/1955 [============================>.] - ETA: 0s - loss: 4.6257\n",
      "Epoch 6: loss improved from 4.78085 to 4.62581, saving model to next_words.h5\n",
      "1955/1955 [==============================] - 73s 37ms/step - loss: 4.6258\n",
      "Epoch 7/70\n",
      "1954/1955 [============================>.] - ETA: 0s - loss: 4.4698\n",
      "Epoch 7: loss improved from 4.62581 to 4.46958, saving model to next_words.h5\n",
      "1955/1955 [==============================] - 73s 37ms/step - loss: 4.4696\n",
      "Epoch 8/70\n",
      "1954/1955 [============================>.] - ETA: 0s - loss: 4.3116\n",
      "Epoch 8: loss improved from 4.46958 to 4.31160, saving model to next_words.h5\n",
      "1955/1955 [==============================] - 76s 39ms/step - loss: 4.3116\n",
      "Epoch 9/70\n",
      "1955/1955 [==============================] - ETA: 0s - loss: 4.1423\n",
      "Epoch 9: loss improved from 4.31160 to 4.14230, saving model to next_words.h5\n",
      "1955/1955 [==============================] - 77s 39ms/step - loss: 4.1423\n",
      "Epoch 10/70\n",
      "1955/1955 [==============================] - ETA: 0s - loss: 3.9611\n",
      "Epoch 10: loss improved from 4.14230 to 3.96113, saving model to next_words.h5\n",
      "1955/1955 [==============================] - 77s 39ms/step - loss: 3.9611\n",
      "Epoch 11/70\n",
      "1955/1955 [==============================] - ETA: 0s - loss: 3.7686\n",
      "Epoch 11: loss improved from 3.96113 to 3.76859, saving model to next_words.h5\n",
      "1955/1955 [==============================] - 71s 36ms/step - loss: 3.7686\n",
      "Epoch 12/70\n",
      "1954/1955 [============================>.] - ETA: 0s - loss: 3.5570\n",
      "Epoch 12: loss improved from 3.76859 to 3.55690, saving model to next_words.h5\n",
      "1955/1955 [==============================] - 70s 36ms/step - loss: 3.5569\n",
      "Epoch 13/70\n",
      "1954/1955 [============================>.] - ETA: 0s - loss: 3.3254\n",
      "Epoch 13: loss improved from 3.55690 to 3.32539, saving model to next_words.h5\n",
      "1955/1955 [==============================] - 71s 36ms/step - loss: 3.3254\n",
      "Epoch 14/70\n",
      "1954/1955 [============================>.] - ETA: 0s - loss: 3.0798\n",
      "Epoch 14: loss improved from 3.32539 to 3.07989, saving model to next_words.h5\n",
      "1955/1955 [==============================] - 70s 36ms/step - loss: 3.0799\n",
      "Epoch 15/70\n",
      "1955/1955 [==============================] - ETA: 0s - loss: 2.8186\n",
      "Epoch 15: loss improved from 3.07989 to 2.81857, saving model to next_words.h5\n",
      "1955/1955 [==============================] - 70s 36ms/step - loss: 2.8186\n",
      "Epoch 16/70\n",
      "1955/1955 [==============================] - ETA: 0s - loss: 2.5501\n",
      "Epoch 16: loss improved from 2.81857 to 2.55011, saving model to next_words.h5\n",
      "1955/1955 [==============================] - 70s 36ms/step - loss: 2.5501\n",
      "Epoch 17/70\n",
      "1955/1955 [==============================] - ETA: 0s - loss: 2.2810\n",
      "Epoch 17: loss improved from 2.55011 to 2.28101, saving model to next_words.h5\n",
      "1955/1955 [==============================] - 71s 36ms/step - loss: 2.2810\n",
      "Epoch 18/70\n",
      "1955/1955 [==============================] - ETA: 0s - loss: 2.0304\n",
      "Epoch 18: loss improved from 2.28101 to 2.03039, saving model to next_words.h5\n",
      "1955/1955 [==============================] - 70s 36ms/step - loss: 2.0304\n",
      "Epoch 19/70\n",
      "1954/1955 [============================>.] - ETA: 0s - loss: 1.7939\n",
      "Epoch 19: loss improved from 2.03039 to 1.79377, saving model to next_words.h5\n",
      "1955/1955 [==============================] - 70s 36ms/step - loss: 1.7938\n",
      "Epoch 20/70\n",
      "1955/1955 [==============================] - ETA: 0s - loss: 1.5883\n",
      "Epoch 20: loss improved from 1.79377 to 1.58829, saving model to next_words.h5\n",
      "1955/1955 [==============================] - 70s 36ms/step - loss: 1.5883\n",
      "Epoch 21/70\n",
      "1955/1955 [==============================] - ETA: 0s - loss: 1.4106\n",
      "Epoch 21: loss improved from 1.58829 to 1.41056, saving model to next_words.h5\n",
      "1955/1955 [==============================] - 71s 36ms/step - loss: 1.4106\n",
      "Epoch 22/70\n",
      "1955/1955 [==============================] - ETA: 0s - loss: 1.2614\n",
      "Epoch 22: loss improved from 1.41056 to 1.26142, saving model to next_words.h5\n",
      "1955/1955 [==============================] - 70s 36ms/step - loss: 1.2614\n",
      "Epoch 23/70\n",
      "1955/1955 [==============================] - ETA: 0s - loss: 1.1384\n",
      "Epoch 23: loss improved from 1.26142 to 1.13839, saving model to next_words.h5\n",
      "1955/1955 [==============================] - 70s 36ms/step - loss: 1.1384\n",
      "Epoch 24/70\n",
      "1955/1955 [==============================] - ETA: 0s - loss: 1.0459\n",
      "Epoch 24: loss improved from 1.13839 to 1.04589, saving model to next_words.h5\n",
      "1955/1955 [==============================] - 70s 36ms/step - loss: 1.0459\n",
      "Epoch 25/70\n",
      "1954/1955 [============================>.] - ETA: 0s - loss: 0.9591\n",
      "Epoch 25: loss improved from 1.04589 to 0.95912, saving model to next_words.h5\n",
      "1955/1955 [==============================] - 70s 36ms/step - loss: 0.9591\n",
      "Epoch 26/70\n",
      "1954/1955 [============================>.] - ETA: 0s - loss: 0.8977\n",
      "Epoch 26: loss improved from 0.95912 to 0.89769, saving model to next_words.h5\n",
      "1955/1955 [==============================] - 70s 36ms/step - loss: 0.8977\n",
      "Epoch 27/70\n",
      "1955/1955 [==============================] - ETA: 0s - loss: 0.8450\n",
      "Epoch 27: loss improved from 0.89769 to 0.84500, saving model to next_words.h5\n",
      "1955/1955 [==============================] - 70s 36ms/step - loss: 0.8450\n",
      "Epoch 28/70\n",
      "1954/1955 [============================>.] - ETA: 0s - loss: 0.8031\n",
      "Epoch 28: loss improved from 0.84500 to 0.80317, saving model to next_words.h5\n",
      "1955/1955 [==============================] - 70s 36ms/step - loss: 0.8032\n",
      "Epoch 29/70\n",
      "1955/1955 [==============================] - ETA: 0s - loss: 0.7713\n",
      "Epoch 29: loss improved from 0.80317 to 0.77133, saving model to next_words.h5\n",
      "1955/1955 [==============================] - 70s 36ms/step - loss: 0.7713\n",
      "Epoch 30/70\n",
      "1954/1955 [============================>.] - ETA: 0s - loss: 0.7370\n",
      "Epoch 30: loss improved from 0.77133 to 0.73695, saving model to next_words.h5\n",
      "1955/1955 [==============================] - 70s 36ms/step - loss: 0.7370\n",
      "Epoch 31/70\n",
      "1955/1955 [==============================] - ETA: 0s - loss: 0.7071\n",
      "Epoch 31: loss improved from 0.73695 to 0.70710, saving model to next_words.h5\n",
      "1955/1955 [==============================] - 71s 36ms/step - loss: 0.7071\n",
      "Epoch 32/70\n",
      "1955/1955 [==============================] - ETA: 0s - loss: 0.6893\n",
      "Epoch 32: loss improved from 0.70710 to 0.68930, saving model to next_words.h5\n",
      "1955/1955 [==============================] - 70s 36ms/step - loss: 0.6893\n",
      "Epoch 33/70\n",
      "1955/1955 [==============================] - ETA: 0s - loss: 0.6690\n",
      "Epoch 33: loss improved from 0.68930 to 0.66903, saving model to next_words.h5\n",
      "1955/1955 [==============================] - 70s 36ms/step - loss: 0.6690\n",
      "Epoch 34/70\n",
      "1955/1955 [==============================] - ETA: 0s - loss: 0.6528\n",
      "Epoch 34: loss improved from 0.66903 to 0.65283, saving model to next_words.h5\n",
      "1955/1955 [==============================] - 71s 36ms/step - loss: 0.6528\n",
      "Epoch 35/70\n",
      "1954/1955 [============================>.] - ETA: 0s - loss: 0.6340\n",
      "Epoch 35: loss improved from 0.65283 to 0.63420, saving model to next_words.h5\n",
      "1955/1955 [==============================] - 70s 36ms/step - loss: 0.6342\n",
      "Epoch 36/70\n"
     ]
    },
    {
     "name": "stdout",
     "output_type": "stream",
     "text": [
      "1954/1955 [============================>.] - ETA: 0s - loss: 0.6238\n",
      "Epoch 36: loss improved from 0.63420 to 0.62393, saving model to next_words.h5\n",
      "1955/1955 [==============================] - 70s 36ms/step - loss: 0.6239\n",
      "Epoch 37/70\n",
      "1955/1955 [==============================] - ETA: 0s - loss: 0.6081\n",
      "Epoch 37: loss improved from 0.62393 to 0.60806, saving model to next_words.h5\n",
      "1955/1955 [==============================] - 70s 36ms/step - loss: 0.6081\n",
      "Epoch 38/70\n",
      "1955/1955 [==============================] - ETA: 0s - loss: 0.5966\n",
      "Epoch 38: loss improved from 0.60806 to 0.59663, saving model to next_words.h5\n",
      "1955/1955 [==============================] - 70s 36ms/step - loss: 0.5966\n",
      "Epoch 39/70\n",
      "1955/1955 [==============================] - ETA: 0s - loss: 0.5855\n",
      "Epoch 39: loss improved from 0.59663 to 0.58548, saving model to next_words.h5\n",
      "1955/1955 [==============================] - 70s 36ms/step - loss: 0.5855\n",
      "Epoch 40/70\n",
      "1954/1955 [============================>.] - ETA: 0s - loss: 0.5765\n",
      "Epoch 40: loss improved from 0.58548 to 0.57634, saving model to next_words.h5\n",
      "1955/1955 [==============================] - 70s 36ms/step - loss: 0.5763\n",
      "Epoch 41/70\n",
      "1955/1955 [==============================] - ETA: 0s - loss: 0.5646\n",
      "Epoch 41: loss improved from 0.57634 to 0.56458, saving model to next_words.h5\n",
      "1955/1955 [==============================] - 70s 36ms/step - loss: 0.5646\n",
      "Epoch 42/70\n",
      "1954/1955 [============================>.] - ETA: 0s - loss: 0.5564\n",
      "Epoch 42: loss improved from 0.56458 to 0.55654, saving model to next_words.h5\n",
      "1955/1955 [==============================] - 70s 36ms/step - loss: 0.5565\n",
      "Epoch 43/70\n",
      "1955/1955 [==============================] - ETA: 0s - loss: 0.5499\n",
      "Epoch 43: loss improved from 0.55654 to 0.54993, saving model to next_words.h5\n",
      "1955/1955 [==============================] - 70s 36ms/step - loss: 0.5499\n",
      "Epoch 44/70\n",
      "1954/1955 [============================>.] - ETA: 0s - loss: 0.5403\n",
      "Epoch 44: loss improved from 0.54993 to 0.54046, saving model to next_words.h5\n",
      "1955/1955 [==============================] - 70s 36ms/step - loss: 0.5405\n",
      "Epoch 45/70\n",
      "1954/1955 [============================>.] - ETA: 0s - loss: 0.5349\n",
      "Epoch 45: loss improved from 0.54046 to 0.53486, saving model to next_words.h5\n",
      "1955/1955 [==============================] - 70s 36ms/step - loss: 0.5349\n",
      "Epoch 46/70\n",
      "1954/1955 [============================>.] - ETA: 0s - loss: 0.5265\n",
      "Epoch 46: loss improved from 0.53486 to 0.52653, saving model to next_words.h5\n",
      "1955/1955 [==============================] - 70s 36ms/step - loss: 0.5265\n",
      "Epoch 47/70\n",
      "1955/1955 [==============================] - ETA: 0s - loss: 0.5197\n",
      "Epoch 47: loss improved from 0.52653 to 0.51969, saving model to next_words.h5\n",
      "1955/1955 [==============================] - 70s 36ms/step - loss: 0.5197\n",
      "Epoch 48/70\n",
      "1955/1955 [==============================] - ETA: 0s - loss: 0.5159\n",
      "Epoch 48: loss improved from 0.51969 to 0.51591, saving model to next_words.h5\n",
      "1955/1955 [==============================] - 70s 36ms/step - loss: 0.5159\n",
      "Epoch 49/70\n",
      "1955/1955 [==============================] - ETA: 0s - loss: 0.5059\n",
      "Epoch 49: loss improved from 0.51591 to 0.50592, saving model to next_words.h5\n",
      "1955/1955 [==============================] - 70s 36ms/step - loss: 0.5059\n",
      "Epoch 50/70\n",
      "1954/1955 [============================>.] - ETA: 0s - loss: 0.5026\n",
      "Epoch 50: loss improved from 0.50592 to 0.50255, saving model to next_words.h5\n",
      "1955/1955 [==============================] - 70s 36ms/step - loss: 0.5026\n",
      "Epoch 51/70\n",
      "1954/1955 [============================>.] - ETA: 0s - loss: 0.4988\n",
      "Epoch 51: loss improved from 0.50255 to 0.49859, saving model to next_words.h5\n",
      "1955/1955 [==============================] - 70s 36ms/step - loss: 0.4986\n",
      "Epoch 52/70\n",
      "1955/1955 [==============================] - ETA: 0s - loss: 0.4946\n",
      "Epoch 52: loss improved from 0.49859 to 0.49456, saving model to next_words.h5\n",
      "1955/1955 [==============================] - 70s 36ms/step - loss: 0.4946\n",
      "Epoch 53/70\n",
      "1954/1955 [============================>.] - ETA: 0s - loss: 0.4870\n",
      "Epoch 53: loss improved from 0.49456 to 0.48697, saving model to next_words.h5\n",
      "1955/1955 [==============================] - 70s 36ms/step - loss: 0.4870\n",
      "Epoch 54/70\n",
      "1955/1955 [==============================] - ETA: 0s - loss: 0.4826\n",
      "Epoch 54: loss improved from 0.48697 to 0.48265, saving model to next_words.h5\n",
      "1955/1955 [==============================] - 70s 36ms/step - loss: 0.4826\n",
      "Epoch 55/70\n",
      "1954/1955 [============================>.] - ETA: 0s - loss: 0.4772\n",
      "Epoch 55: loss improved from 0.48265 to 0.47714, saving model to next_words.h5\n",
      "1955/1955 [==============================] - 70s 36ms/step - loss: 0.4771\n",
      "Epoch 56/70\n",
      "1955/1955 [==============================] - ETA: 0s - loss: 0.4754\n",
      "Epoch 56: loss improved from 0.47714 to 0.47539, saving model to next_words.h5\n",
      "1955/1955 [==============================] - 70s 36ms/step - loss: 0.4754\n",
      "Epoch 57/70\n",
      "1954/1955 [============================>.] - ETA: 0s - loss: 0.4706\n",
      "Epoch 57: loss improved from 0.47539 to 0.47058, saving model to next_words.h5\n",
      "1955/1955 [==============================] - 70s 36ms/step - loss: 0.4706\n",
      "Epoch 58/70\n",
      "1955/1955 [==============================] - ETA: 0s - loss: 0.4694\n",
      "Epoch 58: loss improved from 0.47058 to 0.46935, saving model to next_words.h5\n",
      "1955/1955 [==============================] - 70s 36ms/step - loss: 0.4694\n",
      "Epoch 59/70\n",
      "1955/1955 [==============================] - ETA: 0s - loss: 0.4628\n",
      "Epoch 59: loss improved from 0.46935 to 0.46283, saving model to next_words.h5\n",
      "1955/1955 [==============================] - 70s 36ms/step - loss: 0.4628\n",
      "Epoch 60/70\n",
      "1955/1955 [==============================] - ETA: 0s - loss: 0.4612\n",
      "Epoch 60: loss improved from 0.46283 to 0.46118, saving model to next_words.h5\n",
      "1955/1955 [==============================] - 70s 36ms/step - loss: 0.4612\n",
      "Epoch 61/70\n",
      "1955/1955 [==============================] - ETA: 0s - loss: 0.4581\n",
      "Epoch 61: loss improved from 0.46118 to 0.45807, saving model to next_words.h5\n",
      "1955/1955 [==============================] - 71s 36ms/step - loss: 0.4581\n",
      "Epoch 62/70\n",
      "1954/1955 [============================>.] - ETA: 0s - loss: 0.4533\n",
      "Epoch 62: loss improved from 0.45807 to 0.45351, saving model to next_words.h5\n",
      "1955/1955 [==============================] - 70s 36ms/step - loss: 0.4535\n",
      "Epoch 63/70\n",
      "1955/1955 [==============================] - ETA: 0s - loss: 0.4516\n",
      "Epoch 63: loss improved from 0.45351 to 0.45157, saving model to next_words.h5\n",
      "1955/1955 [==============================] - 70s 36ms/step - loss: 0.4516\n",
      "Epoch 64/70\n",
      "1954/1955 [============================>.] - ETA: 0s - loss: 0.4468\n",
      "Epoch 64: loss improved from 0.45157 to 0.44682, saving model to next_words.h5\n",
      "1955/1955 [==============================] - 70s 36ms/step - loss: 0.4468\n",
      "Epoch 65/70\n",
      "1955/1955 [==============================] - ETA: 0s - loss: 0.4439\n",
      "Epoch 65: loss improved from 0.44682 to 0.44387, saving model to next_words.h5\n",
      "1955/1955 [==============================] - 71s 36ms/step - loss: 0.4439\n",
      "Epoch 66/70\n",
      "1955/1955 [==============================] - ETA: 0s - loss: 0.4448\n",
      "Epoch 66: loss did not improve from 0.44387\n",
      "1955/1955 [==============================] - 78s 40ms/step - loss: 0.4448\n",
      "Epoch 67/70\n",
      "1954/1955 [============================>.] - ETA: 0s - loss: 0.4379\n",
      "Epoch 67: loss improved from 0.44387 to 0.43790, saving model to next_words.h5\n",
      "1955/1955 [==============================] - 74s 38ms/step - loss: 0.4379\n",
      "Epoch 68/70\n",
      "1954/1955 [============================>.] - ETA: 0s - loss: 0.4354\n",
      "Epoch 68: loss improved from 0.43790 to 0.43540, saving model to next_words.h5\n",
      "1955/1955 [==============================] - 74s 38ms/step - loss: 0.4354\n",
      "Epoch 69/70\n",
      "1954/1955 [============================>.] - ETA: 0s - loss: 0.4364\n",
      "Epoch 69: loss did not improve from 0.43540\n",
      "1955/1955 [==============================] - 72s 37ms/step - loss: 0.4365\n",
      "Epoch 70/70\n",
      "1954/1955 [============================>.] - ETA: 0s - loss: 0.4346\n",
      "Epoch 70: loss improved from 0.43540 to 0.43459, saving model to next_words.h5\n",
      "1955/1955 [==============================] - 74s 38ms/step - loss: 0.4346\n"
     ]
    },
    {
     "data": {
      "text/plain": [
       "<keras.callbacks.History at 0x20caf5f5c60>"
      ]
     },
     "execution_count": 14,
     "metadata": {},
     "output_type": "execute_result"
    }
   ],
   "source": [
    "from tensorflow.keras.callbacks import ModelCheckpoint\n",
    "\n",
    "checkpoint = ModelCheckpoint(\"next_words.h5\", monitor='loss', verbose=1, save_best_only=True)\n",
    "model.compile(loss='categorical_crossentropy', optimizer=Adam(learning_rate=0.001))\n",
    "model.fit(train_gen, epochs=70, batch_size=64, callbacks=[checkpoint])"
   ]
  },
  {
   "cell_type": "markdown",
   "metadata": {},
   "source": [
    "##### Predict using model"
   ]
  },
  {
   "cell_type": "code",
   "execution_count": 21,
   "metadata": {},
   "outputs": [],
   "source": [
    "from tensorflow.keras.models import load_model\n",
    "import numpy as np\n",
    "import pickle\n",
    "\n",
    "### Load the model and tokenizer\n",
    "model = load_model('next_words.h5')\n",
    "tokenizer = pickle.load(open('token.pkl', 'rb'))\n",
    "\n",
    "def predict_next_words(model, tokenizer, text):\n",
    "    \n",
    "    sequence = tokenizer.texts_to_sequences([text])\n",
    "    sequence = np.array(sequence)\n",
    "    preds = np.argmax(model.predict(sequence))\n",
    "    predicted_word = \"\"\n",
    "    \n",
    "    for key, value in tokenizer.word_index.items():\n",
    "        if value == preds:\n",
    "            predicted_word = key\n",
    "            break\n",
    "    \n",
    "    print(predicted_word)\n",
    "    return(predicted_word)\n"
   ]
  },
  {
   "cell_type": "code",
   "execution_count": 22,
   "metadata": {},
   "outputs": [
    {
     "name": "stdout",
     "output_type": "stream",
     "text": [
      "Enter your line : The Project Gutenberg\n",
      "['The', 'Project', 'Gutenberg']\n",
      "1/1 [==============================] - 1s 585ms/step\n",
      "literary\n",
      "Enter your line : The Project Gutenberg eBook of\n",
      "['Gutenberg', 'eBook', 'of']\n",
      "1/1 [==============================] - 0s 18ms/step\n",
      "pride\n",
      "Enter your line :  Lizzy is not a bit better than\n",
      "['bit', 'better', 'than']\n",
      "1/1 [==============================] - 0s 18ms/step\n",
      "the\n"
     ]
    },
    {
     "ename": "KeyboardInterrupt",
     "evalue": "Interrupted by user",
     "output_type": "error",
     "traceback": [
      "\u001b[1;31m---------------------------------------------------------------------------\u001b[0m",
      "\u001b[1;31mKeyboardInterrupt\u001b[0m                         Traceback (most recent call last)",
      "Input \u001b[1;32mIn [22]\u001b[0m, in \u001b[0;36m<cell line: 1>\u001b[1;34m()\u001b[0m\n\u001b[0;32m      1\u001b[0m \u001b[38;5;28;01mwhile\u001b[39;00m(\u001b[38;5;28;01mTrue\u001b[39;00m):\n\u001b[1;32m----> 2\u001b[0m     text \u001b[38;5;241m=\u001b[39m \u001b[38;5;28;43minput\u001b[39;49m\u001b[43m(\u001b[49m\u001b[38;5;124;43m\"\u001b[39;49m\u001b[38;5;124;43mEnter your line : \u001b[39;49m\u001b[38;5;124;43m\"\u001b[39;49m\u001b[43m)\u001b[49m\n\u001b[0;32m      4\u001b[0m     \u001b[38;5;28;01mif\u001b[39;00m text \u001b[38;5;241m==\u001b[39m \u001b[38;5;124m\"\u001b[39m\u001b[38;5;124m0\u001b[39m\u001b[38;5;124m\"\u001b[39m:\n\u001b[0;32m      5\u001b[0m         \u001b[38;5;28mprint\u001b[39m(\u001b[38;5;124m\"\u001b[39m\u001b[38;5;124mExecution Completed.....\u001b[39m\u001b[38;5;124m\"\u001b[39m)\n",
      "File \u001b[1;32m~\\AppData\\Local\\Programs\\Python\\Python310\\lib\\site-packages\\ipykernel\\kernelbase.py:1161\u001b[0m, in \u001b[0;36mKernel.raw_input\u001b[1;34m(self, prompt)\u001b[0m\n\u001b[0;32m   1157\u001b[0m \u001b[38;5;28;01mif\u001b[39;00m \u001b[38;5;129;01mnot\u001b[39;00m \u001b[38;5;28mself\u001b[39m\u001b[38;5;241m.\u001b[39m_allow_stdin:\n\u001b[0;32m   1158\u001b[0m     \u001b[38;5;28;01mraise\u001b[39;00m StdinNotImplementedError(\n\u001b[0;32m   1159\u001b[0m         \u001b[38;5;124m\"\u001b[39m\u001b[38;5;124mraw_input was called, but this frontend does not support input requests.\u001b[39m\u001b[38;5;124m\"\u001b[39m\n\u001b[0;32m   1160\u001b[0m     )\n\u001b[1;32m-> 1161\u001b[0m \u001b[38;5;28;01mreturn\u001b[39;00m \u001b[38;5;28;43mself\u001b[39;49m\u001b[38;5;241;43m.\u001b[39;49m\u001b[43m_input_request\u001b[49m\u001b[43m(\u001b[49m\n\u001b[0;32m   1162\u001b[0m \u001b[43m    \u001b[49m\u001b[38;5;28;43mstr\u001b[39;49m\u001b[43m(\u001b[49m\u001b[43mprompt\u001b[49m\u001b[43m)\u001b[49m\u001b[43m,\u001b[49m\n\u001b[0;32m   1163\u001b[0m \u001b[43m    \u001b[49m\u001b[38;5;28;43mself\u001b[39;49m\u001b[38;5;241;43m.\u001b[39;49m\u001b[43m_parent_ident\u001b[49m\u001b[43m[\u001b[49m\u001b[38;5;124;43m\"\u001b[39;49m\u001b[38;5;124;43mshell\u001b[39;49m\u001b[38;5;124;43m\"\u001b[39;49m\u001b[43m]\u001b[49m\u001b[43m,\u001b[49m\n\u001b[0;32m   1164\u001b[0m \u001b[43m    \u001b[49m\u001b[38;5;28;43mself\u001b[39;49m\u001b[38;5;241;43m.\u001b[39;49m\u001b[43mget_parent\u001b[49m\u001b[43m(\u001b[49m\u001b[38;5;124;43m\"\u001b[39;49m\u001b[38;5;124;43mshell\u001b[39;49m\u001b[38;5;124;43m\"\u001b[39;49m\u001b[43m)\u001b[49m\u001b[43m,\u001b[49m\n\u001b[0;32m   1165\u001b[0m \u001b[43m    \u001b[49m\u001b[43mpassword\u001b[49m\u001b[38;5;241;43m=\u001b[39;49m\u001b[38;5;28;43;01mFalse\u001b[39;49;00m\u001b[43m,\u001b[49m\n\u001b[0;32m   1166\u001b[0m \u001b[43m\u001b[49m\u001b[43m)\u001b[49m\n",
      "File \u001b[1;32m~\\AppData\\Local\\Programs\\Python\\Python310\\lib\\site-packages\\ipykernel\\kernelbase.py:1205\u001b[0m, in \u001b[0;36mKernel._input_request\u001b[1;34m(self, prompt, ident, parent, password)\u001b[0m\n\u001b[0;32m   1202\u001b[0m             \u001b[38;5;28;01mbreak\u001b[39;00m\n\u001b[0;32m   1203\u001b[0m \u001b[38;5;28;01mexcept\u001b[39;00m \u001b[38;5;167;01mKeyboardInterrupt\u001b[39;00m:\n\u001b[0;32m   1204\u001b[0m     \u001b[38;5;66;03m# re-raise KeyboardInterrupt, to truncate traceback\u001b[39;00m\n\u001b[1;32m-> 1205\u001b[0m     \u001b[38;5;28;01mraise\u001b[39;00m \u001b[38;5;167;01mKeyboardInterrupt\u001b[39;00m(\u001b[38;5;124m\"\u001b[39m\u001b[38;5;124mInterrupted by user\u001b[39m\u001b[38;5;124m\"\u001b[39m) \u001b[38;5;28;01mfrom\u001b[39;00m \u001b[38;5;28mNone\u001b[39m\n\u001b[0;32m   1206\u001b[0m \u001b[38;5;28;01mexcept\u001b[39;00m \u001b[38;5;167;01mException\u001b[39;00m:\n\u001b[0;32m   1207\u001b[0m     \u001b[38;5;28mself\u001b[39m\u001b[38;5;241m.\u001b[39mlog\u001b[38;5;241m.\u001b[39mwarning(\u001b[38;5;124m\"\u001b[39m\u001b[38;5;124mInvalid Message:\u001b[39m\u001b[38;5;124m\"\u001b[39m, exc_info\u001b[38;5;241m=\u001b[39m\u001b[38;5;28;01mTrue\u001b[39;00m)\n",
      "\u001b[1;31mKeyboardInterrupt\u001b[0m: Interrupted by user"
     ]
    }
   ],
   "source": [
    "while(True):\n",
    "    text = input(\"Enter your line : \")\n",
    "    \n",
    "    if text == \"0\":\n",
    "        print(\"Execution Completed.....\")\n",
    "        break\n",
    "        \n",
    "    else :\n",
    "        try:\n",
    "            text = text.split(\" \")\n",
    "            text = text[-3:]\n",
    "            print(text)\n",
    "            \n",
    "            predict_next_words(model, tokenizer, text)\n",
    "            \n",
    "        except Exception as e:\n",
    "            print(f\"Error occurred : {e}\")\n",
    "            continue"
   ]
  },
  {
   "cell_type": "code",
   "execution_count": null,
   "metadata": {},
   "outputs": [],
   "source": []
  }
 ],
 "metadata": {
  "kernelspec": {
   "display_name": "Python 3 (ipykernel)",
   "language": "python",
   "name": "python3"
  },
  "language_info": {
   "codemirror_mode": {
    "name": "ipython",
    "version": 3
   },
   "file_extension": ".py",
   "mimetype": "text/x-python",
   "name": "python",
   "nbconvert_exporter": "python",
   "pygments_lexer": "ipython3",
   "version": "3.10.5"
  },
  "vscode": {
   "interpreter": {
    "hash": "a9cff5a362bc38ef45d817ae74b1af54d6a076e3d773891282bce078b815ba34"
   }
  }
 },
 "nbformat": 4,
 "nbformat_minor": 2
}
